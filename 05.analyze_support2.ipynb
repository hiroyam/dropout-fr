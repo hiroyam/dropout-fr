{
 "cells": [
  {
   "cell_type": "code",
   "execution_count": 5,
   "metadata": {
    "ExecuteTime": {
     "end_time": "2019-02-21T11:47:09.712877Z",
     "start_time": "2019-02-21T11:47:09.675243Z"
    },
    "code_folding": [],
    "scrolled": false
   },
   "outputs": [
    {
     "data": {
      "application/vnd.jupyter.widget-view+json": {
       "model_id": "18104153f7064c20bf40351c71ff48fa",
       "version_major": 2,
       "version_minor": 0
      },
      "text/plain": [
       "HBox(children=(IntProgress(value=1, bar_style='info', max=1), HTML(value='')))"
      ]
     },
     "metadata": {},
     "output_type": "display_data"
    },
    {
     "name": "stdout",
     "output_type": "stream",
     "text": [
      "\n"
     ]
    }
   ],
   "source": [
    "import numpy as np\n",
    "import pandas as pd\n",
    "import tensorflow as tf\n",
    "from sklearn import utils\n",
    "from sklearn import model_selection\n",
    "from sklearn import ensemble\n",
    "\n",
    "import matplotlib as mpl\n",
    "mpl.use('Agg')\n",
    "import matplotlib.pyplot as plt\n",
    "import seaborn as sns\n",
    "%matplotlib inline\n",
    "\n",
    "from tqdm import tqdm_notebook as tqdm\n",
    "from tqdm import tnrange\n",
    "tqdm().pandas()\n",
    "\n",
    "eps = 1e-7"
   ]
  },
  {
   "cell_type": "code",
   "execution_count": 6,
   "metadata": {
    "ExecuteTime": {
     "end_time": "2019-02-21T11:47:11.663826Z",
     "start_time": "2019-02-21T11:47:11.581850Z"
    }
   },
   "outputs": [],
   "source": [
    " X = pd.read_csv('mldata/support2/x_new.csv').values\n",
    " y = pd.read_csv('mldata/support2/y_new.csv').values.ravel()\n",
    " X = X.astype(np.float32)\n",
    " y = y.astype(np.int64)\n",
    " Y = np.eye(2)[y]\n",
    " \n",
    " X_train, X_test, Y_train, Y_test = model_selection.train_test_split(X, Y)"
   ]
  },
  {
   "cell_type": "code",
   "execution_count": 7,
   "metadata": {
    "ExecuteTime": {
     "end_time": "2019-02-21T11:48:54.989662Z",
     "start_time": "2019-02-21T11:47:12.942878Z"
    },
    "scrolled": false
   },
   "outputs": [
    {
     "data": {
      "application/vnd.jupyter.widget-view+json": {
       "model_id": "349cbba81fd74f4a8e9de497a4d2d271",
       "version_major": 2,
       "version_minor": 0
      },
      "text/plain": [
       "HBox(children=(IntProgress(value=0, max=200), HTML(value='')))"
      ]
     },
     "metadata": {},
     "output_type": "display_data"
    },
    {
     "name": "stdout",
     "output_type": "stream",
     "text": [
      "\n"
     ]
    },
    {
     "data": {
      "application/vnd.jupyter.widget-view+json": {
       "model_id": "41baf36e5b8a45979a8c9c00af6d1638",
       "version_major": 2,
       "version_minor": 0
      },
      "text/plain": [
       "HBox(children=(IntProgress(value=0, max=500), HTML(value='')))"
      ]
     },
     "metadata": {},
     "output_type": "display_data"
    },
    {
     "name": "stdout",
     "output_type": "stream",
     "text": [
      "\n"
     ]
    }
   ],
   "source": [
    "################################################################################\n",
    "# dropout feature ranking\n",
    "################################################################################\n",
    "#\n",
    "# helper functions\n",
    "#\n",
    "def concrete_dropout_neuron(dropout_p, shape, temp=1.0 / 10.0):\n",
    "    unif_noise = tf.random_uniform(shape)\n",
    "    approx = (\n",
    "          tf.log(dropout_p + eps)\n",
    "        - tf.log(1. - dropout_p + eps)\n",
    "        + tf.log(unif_noise + eps)\n",
    "        - tf.log(1. - unif_noise + eps)\n",
    "    )\n",
    "    approx_output = tf.sigmoid(approx / temp)\n",
    "    return 1. - approx_output\n",
    "\n",
    "def eval_regularizer(logit_p):\n",
    "    dropout_p = tf.sigmoid(logit_p)\n",
    "    loss = 1. - dropout_p\n",
    "    return loss\n",
    "\n",
    "def annealing(epoch, epoches):\n",
    "    rw_max = epoches / 2\n",
    "    if epoch > rw_max:\n",
    "        return 1.\n",
    "    return epoch * 1.0 / rw_max\n",
    "\n",
    "#\n",
    "# construct graph\n",
    "#\n",
    "x               = tf.placeholder(tf.float32, shape=[None, 42])\n",
    "t               = tf.placeholder(tf.float32, shape=[None, 2])\n",
    "is_training     = tf.placeholder(tf.bool)\n",
    "is_pretrain     = tf.placeholder(tf.bool)\n",
    "annealed_lambda = tf.placeholder(tf.float32)\n",
    "\n",
    "logit_p            = tf.Variable(tf.zeros((42,)))\n",
    "expanded_logit_p   = logit_p[tf.newaxis, :]\n",
    "expanded_dropout_p = tf.sigmoid(expanded_logit_p)\n",
    "bernoulli_approx   = concrete_dropout_neuron(expanded_dropout_p, tf.shape(x))\n",
    "noised_x           = x * bernoulli_approx\n",
    "\n",
    "h = tf.cond(is_pretrain, lambda:x, lambda:noised_x)\n",
    "h = tf.layers.dense              (h, 170, tf.nn.relu)\n",
    "h = tf.layers.batch_normalization(h, training=is_training)\n",
    "h = tf.layers.dropout            (h, 0.5, training=is_training)\n",
    "h = tf.layers.dense              (h, 170, tf.nn.relu)\n",
    "h = tf.layers.batch_normalization(h, training=is_training)\n",
    "h = tf.layers.dropout            (h, 0.5, training=is_training)\n",
    "y = tf.layers.dense              (h, 2, tf.nn.softmax)\n",
    "\n",
    "correct_prediction = tf.equal(tf.argmax(y, 1), tf.argmax(t, 1))\n",
    "accuracy           = tf.reduce_mean(tf.cast(correct_prediction, tf.float32))\n",
    "importance_vector  = tf.sigmoid(-logit_p)\n",
    "\n",
    "regularizer_coef   = 0.1\n",
    "regularizer_loss   = regularizer_coef * tf.reduce_sum(eval_regularizer(logit_p))\n",
    "crossentropy_loss  = tf.reduce_mean(-tf.reduce_sum(t * tf.log(y + eps), axis=1))\n",
    "loss               = tf.cond(is_pretrain, \n",
    "                             lambda: crossentropy_loss, \n",
    "                             lambda: crossentropy_loss + annealed_lambda * regularizer_loss)\n",
    "train_step         = tf.train.AdamOptimizer().minimize(loss)\n",
    "\n",
    "batch_size = 200\n",
    "n_batches  = len(X_train) // batch_size\n",
    "with tf.Session() as sess:\n",
    "    sess.run(tf.global_variables_initializer())\n",
    "\n",
    "    #\n",
    "    # phase: pretraining\n",
    "    #\n",
    "    epoches = 200\n",
    "    for epoch in tqdm(range(epoches)):\n",
    "        X_, Y_ = utils.shuffle(X_train, Y_train)\n",
    "\n",
    "        for i in range(n_batches):\n",
    "            start = i * batch_size\n",
    "            end   = start + batch_size\n",
    "\n",
    "            sess.run(train_step, feed_dict={\n",
    "                x: X_[start:end],\n",
    "                t: Y_[start:end],\n",
    "                is_training: True,\n",
    "                is_pretrain: True,\n",
    "                annealed_lambda: annealing(epoch, epoches),\n",
    "                })\n",
    "\n",
    "        # print(epoch, sess.run([loss, accuracy], feed_dict={\n",
    "        #     x: X_test,\n",
    "        #     t: Y_test,\n",
    "        #     is_training: False,\n",
    "        #     is_pretrain: True,\n",
    "        #     annealed_lambda: annealing(epoch, epoches),\n",
    "        #     }))\n",
    "\n",
    "    #\n",
    "    # phase: learning prob\n",
    "    #\n",
    "    epoches = 500\n",
    "    for epoch in tqdm(range(epoches)):\n",
    "        X_, Y_ = utils.shuffle(X_train, Y_train)\n",
    "\n",
    "        for i in range(n_batches):\n",
    "            start = i * batch_size\n",
    "            end   = start + batch_size\n",
    "\n",
    "            sess.run(train_step, feed_dict={\n",
    "                x: X_[start:end],\n",
    "                t: Y_[start:end],\n",
    "                is_training: True,\n",
    "                is_pretrain: False,\n",
    "                annealed_lambda: annealing(epoch, epoches),\n",
    "                })\n",
    "\n",
    "        # print(epoch, sess.run([loss, accuracy], feed_dict={\n",
    "        #     x: X_test,\n",
    "        #     t: Y_test,\n",
    "        #     is_training: False,\n",
    "        #     is_pretrain: False,\n",
    "        #     annealed_lambda: annealing(epoch, epoches),\n",
    "        #     }))\n",
    "\n",
    "    nn_importance_vector = sess.run(importance_vector, feed_dict={\n",
    "            x: X_test,\n",
    "            t: Y_test,\n",
    "            is_training: False,\n",
    "            is_pretrain: False,\n",
    "            annealed_lambda: 1.0,\n",
    "            })"
   ]
  },
  {
   "cell_type": "code",
   "execution_count": 8,
   "metadata": {
    "ExecuteTime": {
     "end_time": "2019-02-21T11:48:55.225690Z",
     "start_time": "2019-02-21T11:48:54.991898Z"
    }
   },
   "outputs": [
    {
     "data": {
      "text/plain": [
       "<matplotlib.axes._subplots.AxesSubplot at 0x7fa12e89a208>"
      ]
     },
     "execution_count": 8,
     "metadata": {},
     "output_type": "execute_result"
    },
    {
     "data": {
      "image/png": "[encoded data removed]",
      "text/plain": [
       "<Figure size 864x576 with 2 Axes>"
      ]
     },
     "metadata": {
      "needs_background": "light"
     },
     "output_type": "display_data"
    }
   ],
   "source": [
    "################################################################################\n",
    "# feature importance by VariationalDropoutNN\n",
    "################################################################################\n",
    "plt.figure(figsize=(12, 8))\n",
    "sns.heatmap(np.reshape(nn_importance_vector, (6, -1)))"
   ]
  },
  {
   "cell_type": "code",
   "execution_count": 9,
   "metadata": {
    "ExecuteTime": {
     "end_time": "2019-02-21T11:48:55.566298Z",
     "start_time": "2019-02-21T11:48:55.227189Z"
    }
   },
   "outputs": [
    {
     "name": "stderr",
     "output_type": "stream",
     "text": [
      "/home/hiroyam/.local/share/virtualenvs/data-u-kyoto-feature-_MSQN99e/lib/python3.6/site-packages/sklearn/ensemble/forest.py:246: FutureWarning: The default value of n_estimators will change from 10 in version 0.20 to 100 in 0.22.\n",
      "  \"10 in version 0.20 to 100 in 0.22.\", FutureWarning)\n"
     ]
    },
    {
     "data": {
      "text/plain": [
       "<matplotlib.axes._subplots.AxesSubplot at 0x7fa0dc437c88>"
      ]
     },
     "execution_count": 9,
     "metadata": {},
     "output_type": "execute_result"
    },
    {
     "data": {
      "image/png": "[encoded data removed]",
      "text/plain": [
       "<Figure size 864x576 with 2 Axes>"
      ]
     },
     "metadata": {
      "needs_background": "light"
     },
     "output_type": "display_data"
    }
   ],
   "source": [
    "################################################################################\n",
    "# feature importance by RandomForest\n",
    "################################################################################\n",
    "clf = ensemble.RandomForestClassifier()\n",
    "clf.fit(X_train, Y_train)\n",
    "plt.figure(figsize=(12, 8))\n",
    "sns.heatmap(np.reshape(clf.feature_importances_, (6, -1)))"
   ]
  },
  {
   "cell_type": "code",
   "execution_count": null,
   "metadata": {},
   "outputs": [],
   "source": []
  },
  {
   "cell_type": "code",
   "execution_count": null,
   "metadata": {},
   "outputs": [],
   "source": []
  },
  {
   "cell_type": "code",
   "execution_count": null,
   "metadata": {},
   "outputs": [],
   "source": []
  },
  {
   "cell_type": "code",
   "execution_count": null,
   "metadata": {},
   "outputs": [],
   "source": []
  },
  {
   "cell_type": "code",
   "execution_count": null,
   "metadata": {},
   "outputs": [],
   "source": []
  },
  {
   "cell_type": "code",
   "execution_count": null,
   "metadata": {},
   "outputs": [],
   "source": []
  },
  {
   "cell_type": "code",
   "execution_count": null,
   "metadata": {},
   "outputs": [],
   "source": []
  },
  {
   "cell_type": "code",
   "execution_count": null,
   "metadata": {},
   "outputs": [],
   "source": []
  },
  {
   "cell_type": "code",
   "execution_count": null,
   "metadata": {},
   "outputs": [],
   "source": []
  },
  {
   "cell_type": "code",
   "execution_count": null,
   "metadata": {},
   "outputs": [],
   "source": []
  },
  {
   "cell_type": "code",
   "execution_count": null,
   "metadata": {},
   "outputs": [],
   "source": []
  },
  {
   "cell_type": "code",
   "execution_count": null,
   "metadata": {},
   "outputs": [],
   "source": []
  },
  {
   "cell_type": "code",
   "execution_count": null,
   "metadata": {},
   "outputs": [],
   "source": []
  },
  {
   "cell_type": "code",
   "execution_count": null,
   "metadata": {},
   "outputs": [],
   "source": []
  },
  {
   "cell_type": "code",
   "execution_count": null,
   "metadata": {},
   "outputs": [],
   "source": []
  },
  {
   "cell_type": "code",
   "execution_count": null,
   "metadata": {},
   "outputs": [],
   "source": []
  },
  {
   "cell_type": "code",
   "execution_count": null,
   "metadata": {},
   "outputs": [],
   "source": []
  },
  {
   "cell_type": "code",
   "execution_count": null,
   "metadata": {},
   "outputs": [],
   "source": []
  },
  {
   "cell_type": "code",
   "execution_count": null,
   "metadata": {},
   "outputs": [],
   "source": []
  },
  {
   "cell_type": "code",
   "execution_count": null,
   "metadata": {},
   "outputs": [],
   "source": []
  },
  {
   "cell_type": "code",
   "execution_count": null,
   "metadata": {},
   "outputs": [],
   "source": []
  },
  {
   "cell_type": "code",
   "execution_count": null,
   "metadata": {},
   "outputs": [],
   "source": []
  },
  {
   "cell_type": "code",
   "execution_count": null,
   "metadata": {},
   "outputs": [],
   "source": []
  },
  {
   "cell_type": "code",
   "execution_count": null,
   "metadata": {},
   "outputs": [],
   "source": []
  },
  {
   "cell_type": "code",
   "execution_count": null,
   "metadata": {},
   "outputs": [],
   "source": []
  },
  {
   "cell_type": "code",
   "execution_count": null,
   "metadata": {},
   "outputs": [],
   "source": []
  },
  {
   "cell_type": "code",
   "execution_count": null,
   "metadata": {},
   "outputs": [],
   "source": []
  },
  {
   "cell_type": "code",
   "execution_count": null,
   "metadata": {},
   "outputs": [],
   "source": []
  },
  {
   "cell_type": "code",
   "execution_count": null,
   "metadata": {},
   "outputs": [],
   "source": []
  },
  {
   "cell_type": "code",
   "execution_count": null,
   "metadata": {},
   "outputs": [],
   "source": []
  },
  {
   "cell_type": "code",
   "execution_count": null,
   "metadata": {},
   "outputs": [],
   "source": []
  },
  {
   "cell_type": "code",
   "execution_count": null,
   "metadata": {},
   "outputs": [],
   "source": []
  },
  {
   "cell_type": "code",
   "execution_count": null,
   "metadata": {},
   "outputs": [],
   "source": []
  },
  {
   "cell_type": "code",
   "execution_count": null,
   "metadata": {},
   "outputs": [],
   "source": []
  },
  {
   "cell_type": "code",
   "execution_count": null,
   "metadata": {},
   "outputs": [],
   "source": []
  },
  {
   "cell_type": "code",
   "execution_count": null,
   "metadata": {},
   "outputs": [],
   "source": []
  },
  {
   "cell_type": "code",
   "execution_count": null,
   "metadata": {},
   "outputs": [],
   "source": []
  },
  {
   "cell_type": "code",
   "execution_count": null,
   "metadata": {},
   "outputs": [],
   "source": []
  },
  {
   "cell_type": "code",
   "execution_count": null,
   "metadata": {},
   "outputs": [],
   "source": []
  },
  {
   "cell_type": "code",
   "execution_count": null,
   "metadata": {},
   "outputs": [],
   "source": []
  },
  {
   "cell_type": "code",
   "execution_count": null,
   "metadata": {},
   "outputs": [],
   "source": []
  },
  {
   "cell_type": "code",
   "execution_count": null,
   "metadata": {},
   "outputs": [],
   "source": []
  },
  {
   "cell_type": "code",
   "execution_count": null,
   "metadata": {},
   "outputs": [],
   "source": []
  },
  {
   "cell_type": "code",
   "execution_count": null,
   "metadata": {},
   "outputs": [],
   "source": [
    "\n",
    "\n",
    "\n",
    "\n",
    "\n",
    "\n",
    "\n",
    "\n",
    "\n",
    "\n",
    "\n",
    "\n"
   ]
  }
 ],
 "metadata": {
  "_draft": {
   "nbviewer_url": "https://gist.github.com/f68b5a077d0b699fe92ccb28a8bfee94"
  },
  "gist": {
   "data": {
    "description": "",
    "public": false
   },
   "id": "f68b5a077d0b699fe92ccb28a8bfee94"
  },
  "kernelspec": {
   "display_name": "Python 3",
   "language": "python",
   "name": "python3"
  },
  "language_info": {
   "codemirror_mode": {
    "name": "ipython",
    "version": 3
   },
   "file_extension": ".py",
   "mimetype": "text/x-python",
   "name": "python",
   "nbconvert_exporter": "python",
   "pygments_lexer": "ipython3",
   "version": "3.6.3"
  },
  "notify_time": "30",
  "varInspector": {
   "cols": {
    "lenName": 16,
    "lenType": 16,
    "lenVar": 40
   },
   "kernels_config": {
    "python": {
     "delete_cmd_postfix": "",
     "delete_cmd_prefix": "del ",
     "library": "var_list.py",
     "varRefreshCmd": "print(var_dic_list())"
    },
    "r": {
     "delete_cmd_postfix": ") ",
     "delete_cmd_prefix": "rm(",
     "library": "var_list.r",
     "varRefreshCmd": "cat(var_dic_list()) "
    }
   },
   "position": {
    "height": "430px",
    "left": "833px",
    "right": "18px",
    "top": "36px",
    "width": "564px"
   },
   "types_to_exclude": [
    "module",
    "function",
    "builtin_function_or_method",
    "instance",
    "_Feature"
   ],
   "window_display": false
  }
 },
 "nbformat": 4,
 "nbformat_minor": 2
}

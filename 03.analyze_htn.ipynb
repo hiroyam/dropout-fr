{
 "cells": [
  {
   "cell_type": "code",
   "execution_count": 7,
   "metadata": {
    "ExecuteTime": {
     "end_time": "2019-02-21T11:31:15.034766Z",
     "start_time": "2019-02-21T11:31:14.995576Z"
    },
    "code_folding": [],
    "scrolled": false
   },
   "outputs": [
    {
     "data": {
      "application/vnd.jupyter.widget-view+json": {
       "model_id": "90d0d97b1ac3474fa1bfb6f2145b8362",
       "version_major": 2,
       "version_minor": 0
      },
      "text/plain": [
       "HBox(children=(IntProgress(value=1, bar_style='info', max=1), HTML(value='')))"
      ]
     },
     "metadata": {},
     "output_type": "display_data"
    },
    {
     "name": "stdout",
     "output_type": "stream",
     "text": [
      "\n"
     ]
    }
   ],
   "source": [
    "import numpy as np\n",
    "import pandas as pd\n",
    "import tensorflow as tf\n",
    "from sklearn import utils\n",
    "from sklearn import model_selection\n",
    "from sklearn import ensemble\n",
    "\n",
    "import matplotlib as mpl\n",
    "mpl.use('Agg')\n",
    "import matplotlib.pyplot as plt\n",
    "import seaborn as sns\n",
    "%matplotlib inline\n",
    "\n",
    "from tqdm import tqdm_notebook as tqdm\n",
    "from tqdm import tnrange\n",
    "tqdm().pandas()\n",
    "\n",
    "eps = 1e-7"
   ]
  },
  {
   "cell_type": "code",
   "execution_count": 2,
   "metadata": {
    "ExecuteTime": {
     "end_time": "2019-02-21T11:23:10.497501Z",
     "start_time": "2019-02-21T11:23:10.278547Z"
    }
   },
   "outputs": [
    {
     "data": {
      "text/html": [
       "<div>\n",
       "<style scoped>\n",
       "    .dataframe tbody tr th:only-of-type {\n",
       "        vertical-align: middle;\n",
       "    }\n",
       "\n",
       "    .dataframe tbody tr th {\n",
       "        vertical-align: top;\n",
       "    }\n",
       "\n",
       "    .dataframe thead th {\n",
       "        text-align: right;\n",
       "    }\n",
       "</style>\n",
       "<table border=\"1\" class=\"dataframe\">\n",
       "  <thead>\n",
       "    <tr style=\"text-align: right;\">\n",
       "      <th></th>\n",
       "      <th>year</th>\n",
       "      <th>cypher_id</th>\n",
       "      <th>1000kHz-LA Impedance</th>\n",
       "      <th>1000kHz-LL Impedance</th>\n",
       "      <th>1000kHz-RA Impedance</th>\n",
       "      <th>1000kHz-RL Impedance</th>\n",
       "      <th>1000kHz-TR Impedance</th>\n",
       "      <th>10m最大歩行速度</th>\n",
       "      <th>10m最大歩行速度_1回目</th>\n",
       "      <th>10m最大歩行速度_2回目</th>\n",
       "      <th>...</th>\n",
       "      <th>骨・関節の病気_罹患歴あり</th>\n",
       "      <th>Ｈピロリ抗体判定_補助コメント_nan</th>\n",
       "      <th>Ｈピロリ抗体判定_補助コメント_測定不能</th>\n",
       "      <th>Ｈピロリ抗体濃度_補助コメント_nan</th>\n",
       "      <th>Ｈピロリ抗体濃度_補助コメント_測定不能</th>\n",
       "      <th>Ｍ２ＢＰＧｉ_判定_nan</th>\n",
       "      <th>ﾀｹﾌﾟﾛﾝ、ﾊﾟﾘｴｯﾄ2.その他3.わからない_nan</th>\n",
       "      <th>ﾀｹﾌﾟﾛﾝ、ﾊﾟﾘｴｯﾄ2.その他3.わからない_その他</th>\n",
       "      <th>ﾀｹﾌﾟﾛﾝ、ﾊﾟﾘｴｯﾄ2.その他3.わからない_わからない</th>\n",
       "      <th>ﾀｹﾌﾟﾛﾝ、ﾊﾟﾘｴｯﾄ2.その他3.わからない_ｵﾒﾌﾟﾗｰﾙ、ﾀｹﾌﾟﾛﾝ、ﾊﾟﾘｴｯﾄ</th>\n",
       "    </tr>\n",
       "  </thead>\n",
       "  <tbody>\n",
       "    <tr>\n",
       "      <th>6</th>\n",
       "      <td>2005-01-01</td>\n",
       "      <td>0GOrYl02</td>\n",
       "      <td>287.335539</td>\n",
       "      <td>218.334026</td>\n",
       "      <td>281.254348</td>\n",
       "      <td>216.904253</td>\n",
       "      <td>16.925709</td>\n",
       "      <td>4.574501</td>\n",
       "      <td>4.20729</td>\n",
       "      <td>4.151683</td>\n",
       "      <td>...</td>\n",
       "      <td>0</td>\n",
       "      <td>1</td>\n",
       "      <td>0</td>\n",
       "      <td>1</td>\n",
       "      <td>0</td>\n",
       "      <td>1</td>\n",
       "      <td>1</td>\n",
       "      <td>0</td>\n",
       "      <td>0</td>\n",
       "      <td>0</td>\n",
       "    </tr>\n",
       "    <tr>\n",
       "      <th>10</th>\n",
       "      <td>2005-01-01</td>\n",
       "      <td>0IZ35FSJ</td>\n",
       "      <td>287.335539</td>\n",
       "      <td>218.334026</td>\n",
       "      <td>281.254348</td>\n",
       "      <td>216.904253</td>\n",
       "      <td>16.925709</td>\n",
       "      <td>4.574501</td>\n",
       "      <td>4.20729</td>\n",
       "      <td>4.151683</td>\n",
       "      <td>...</td>\n",
       "      <td>0</td>\n",
       "      <td>1</td>\n",
       "      <td>0</td>\n",
       "      <td>1</td>\n",
       "      <td>0</td>\n",
       "      <td>1</td>\n",
       "      <td>1</td>\n",
       "      <td>0</td>\n",
       "      <td>0</td>\n",
       "      <td>0</td>\n",
       "    </tr>\n",
       "    <tr>\n",
       "      <th>26</th>\n",
       "      <td>2005-01-01</td>\n",
       "      <td>0bjwusdt</td>\n",
       "      <td>287.335539</td>\n",
       "      <td>218.334026</td>\n",
       "      <td>281.254348</td>\n",
       "      <td>216.904253</td>\n",
       "      <td>16.925709</td>\n",
       "      <td>4.574501</td>\n",
       "      <td>4.20729</td>\n",
       "      <td>4.151683</td>\n",
       "      <td>...</td>\n",
       "      <td>0</td>\n",
       "      <td>1</td>\n",
       "      <td>0</td>\n",
       "      <td>1</td>\n",
       "      <td>0</td>\n",
       "      <td>1</td>\n",
       "      <td>1</td>\n",
       "      <td>0</td>\n",
       "      <td>0</td>\n",
       "      <td>0</td>\n",
       "    </tr>\n",
       "    <tr>\n",
       "      <th>34</th>\n",
       "      <td>2005-01-01</td>\n",
       "      <td>0k462yZB</td>\n",
       "      <td>287.335539</td>\n",
       "      <td>218.334026</td>\n",
       "      <td>281.254348</td>\n",
       "      <td>216.904253</td>\n",
       "      <td>16.925709</td>\n",
       "      <td>4.574501</td>\n",
       "      <td>4.20729</td>\n",
       "      <td>4.151683</td>\n",
       "      <td>...</td>\n",
       "      <td>0</td>\n",
       "      <td>1</td>\n",
       "      <td>0</td>\n",
       "      <td>1</td>\n",
       "      <td>0</td>\n",
       "      <td>1</td>\n",
       "      <td>1</td>\n",
       "      <td>0</td>\n",
       "      <td>0</td>\n",
       "      <td>0</td>\n",
       "    </tr>\n",
       "    <tr>\n",
       "      <th>38</th>\n",
       "      <td>2005-01-01</td>\n",
       "      <td>0r7zJ7S2</td>\n",
       "      <td>287.335539</td>\n",
       "      <td>218.334026</td>\n",
       "      <td>281.254348</td>\n",
       "      <td>216.904253</td>\n",
       "      <td>16.925709</td>\n",
       "      <td>4.574501</td>\n",
       "      <td>4.20729</td>\n",
       "      <td>4.151683</td>\n",
       "      <td>...</td>\n",
       "      <td>0</td>\n",
       "      <td>1</td>\n",
       "      <td>0</td>\n",
       "      <td>1</td>\n",
       "      <td>0</td>\n",
       "      <td>1</td>\n",
       "      <td>1</td>\n",
       "      <td>0</td>\n",
       "      <td>0</td>\n",
       "      <td>0</td>\n",
       "    </tr>\n",
       "  </tbody>\n",
       "</table>\n",
       "<p>5 rows × 5562 columns</p>\n",
       "</div>"
      ],
      "text/plain": [
       "         year cypher_id  1000kHz-LA Impedance  1000kHz-LL Impedance  \\\n",
       "6  2005-01-01  0GOrYl02            287.335539            218.334026   \n",
       "10 2005-01-01  0IZ35FSJ            287.335539            218.334026   \n",
       "26 2005-01-01  0bjwusdt            287.335539            218.334026   \n",
       "34 2005-01-01  0k462yZB            287.335539            218.334026   \n",
       "38 2005-01-01  0r7zJ7S2            287.335539            218.334026   \n",
       "\n",
       "    1000kHz-RA Impedance  1000kHz-RL Impedance  1000kHz-TR Impedance  \\\n",
       "6             281.254348            216.904253             16.925709   \n",
       "10            281.254348            216.904253             16.925709   \n",
       "26            281.254348            216.904253             16.925709   \n",
       "34            281.254348            216.904253             16.925709   \n",
       "38            281.254348            216.904253             16.925709   \n",
       "\n",
       "    10m最大歩行速度  10m最大歩行速度_1回目  10m最大歩行速度_2回目  \\\n",
       "6    4.574501        4.20729       4.151683   \n",
       "10   4.574501        4.20729       4.151683   \n",
       "26   4.574501        4.20729       4.151683   \n",
       "34   4.574501        4.20729       4.151683   \n",
       "38   4.574501        4.20729       4.151683   \n",
       "\n",
       "                         ...                         骨・関節の病気_罹患歴あり  \\\n",
       "6                        ...                                     0   \n",
       "10                       ...                                     0   \n",
       "26                       ...                                     0   \n",
       "34                       ...                                     0   \n",
       "38                       ...                                     0   \n",
       "\n",
       "    Ｈピロリ抗体判定_補助コメント_nan  Ｈピロリ抗体判定_補助コメント_測定不能  Ｈピロリ抗体濃度_補助コメント_nan  \\\n",
       "6                     1                     0                    1   \n",
       "10                    1                     0                    1   \n",
       "26                    1                     0                    1   \n",
       "34                    1                     0                    1   \n",
       "38                    1                     0                    1   \n",
       "\n",
       "    Ｈピロリ抗体濃度_補助コメント_測定不能  Ｍ２ＢＰＧｉ_判定_nan  ﾀｹﾌﾟﾛﾝ、ﾊﾟﾘｴｯﾄ2.その他3.わからない_nan  \\\n",
       "6                      0              1                              1   \n",
       "10                     0              1                              1   \n",
       "26                     0              1                              1   \n",
       "34                     0              1                              1   \n",
       "38                     0              1                              1   \n",
       "\n",
       "    ﾀｹﾌﾟﾛﾝ、ﾊﾟﾘｴｯﾄ2.その他3.わからない_その他  ﾀｹﾌﾟﾛﾝ、ﾊﾟﾘｴｯﾄ2.その他3.わからない_わからない  \\\n",
       "6                               0                                0   \n",
       "10                              0                                0   \n",
       "26                              0                                0   \n",
       "34                              0                                0   \n",
       "38                              0                                0   \n",
       "\n",
       "    ﾀｹﾌﾟﾛﾝ、ﾊﾟﾘｴｯﾄ2.その他3.わからない_ｵﾒﾌﾟﾗｰﾙ、ﾀｹﾌﾟﾛﾝ、ﾊﾟﾘｴｯﾄ  \n",
       "6                                                 0  \n",
       "10                                                0  \n",
       "26                                                0  \n",
       "34                                                0  \n",
       "38                                                0  \n",
       "\n",
       "[5 rows x 5562 columns]"
      ]
     },
     "execution_count": 2,
     "metadata": {},
     "output_type": "execute_result"
    }
   ],
   "source": [
    "df = pd.read_hdf('tmp/02.tmp', 'df')\n",
    "df.head()"
   ]
  },
  {
   "cell_type": "code",
   "execution_count": 3,
   "metadata": {
    "ExecuteTime": {
     "end_time": "2019-02-21T11:23:10.889141Z",
     "start_time": "2019-02-21T11:23:10.498883Z"
    }
   },
   "outputs": [],
   "source": [
    "mask = ['year', 'cypher_id', 'diag_HTN']\n",
    "X = df[df.columns ^ mask]\n",
    "Y = np.eye(2)[df['diag_HTN'].astype(np.int)]\n",
    "X_train, X_test, Y_train, Y_test = model_selection.train_test_split(X, Y)"
   ]
  },
  {
   "cell_type": "code",
   "execution_count": 4,
   "metadata": {
    "ExecuteTime": {
     "end_time": "2019-02-21T11:30:55.834202Z",
     "start_time": "2019-02-21T11:23:10.891923Z"
    },
    "scrolled": false
   },
   "outputs": [
    {
     "data": {
      "application/vnd.jupyter.widget-view+json": {
       "model_id": "78f3b3f2fff34e3f9bae46e762c07f1a",
       "version_major": 2,
       "version_minor": 0
      },
      "text/plain": [
       "HBox(children=(IntProgress(value=0, max=200), HTML(value='')))"
      ]
     },
     "metadata": {},
     "output_type": "display_data"
    },
    {
     "name": "stdout",
     "output_type": "stream",
     "text": [
      "\n"
     ]
    },
    {
     "data": {
      "application/vnd.jupyter.widget-view+json": {
       "model_id": "8e9978a3a7b44b1fb8527a929dda7dbe",
       "version_major": 2,
       "version_minor": 0
      },
      "text/plain": [
       "HBox(children=(IntProgress(value=0, max=500), HTML(value='')))"
      ]
     },
     "metadata": {},
     "output_type": "display_data"
    },
    {
     "name": "stdout",
     "output_type": "stream",
     "text": [
      "\n"
     ]
    }
   ],
   "source": [
    "################################################################################\n",
    "# dropout feature ranking\n",
    "################################################################################\n",
    "#\n",
    "# helper functions\n",
    "#\n",
    "def concrete_dropout_neuron(dropout_p, shape, temp=1.0 / 10.0):\n",
    "    unif_noise = tf.random_uniform(shape)\n",
    "    approx = (\n",
    "          tf.log(dropout_p + eps)\n",
    "        - tf.log(1. - dropout_p + eps)\n",
    "        + tf.log(unif_noise + eps)\n",
    "        - tf.log(1. - unif_noise + eps)\n",
    "    )\n",
    "    approx_output = tf.sigmoid(approx / temp)\n",
    "    return 1. - approx_output\n",
    "\n",
    "def eval_regularizer(logit_p):\n",
    "    dropout_p = tf.sigmoid(logit_p)\n",
    "    loss = 1. - dropout_p\n",
    "    return loss\n",
    "\n",
    "def annealing(epoch, epoches):\n",
    "    rw_max = epoches / 2\n",
    "    if epoch > rw_max:\n",
    "        return 1.\n",
    "    return epoch * 1.0 / rw_max\n",
    "\n",
    "#\n",
    "# construct graph\n",
    "#\n",
    "x               = tf.placeholder(tf.float32, shape=[None, 5559])\n",
    "t               = tf.placeholder(tf.float32, shape=[None, 2])\n",
    "is_training     = tf.placeholder(tf.bool)\n",
    "is_pretrain     = tf.placeholder(tf.bool)\n",
    "annealed_lambda = tf.placeholder(tf.float32)\n",
    "\n",
    "logit_p            = tf.Variable(tf.zeros((5559,)))\n",
    "expanded_logit_p   = logit_p[tf.newaxis, :]\n",
    "expanded_dropout_p = tf.sigmoid(expanded_logit_p)\n",
    "bernoulli_approx   = concrete_dropout_neuron(expanded_dropout_p, tf.shape(x))\n",
    "noised_x           = x * bernoulli_approx\n",
    "\n",
    "h = tf.cond(is_pretrain, lambda:x, lambda:noised_x)\n",
    "h = tf.layers.dense              (h, 170, tf.nn.relu)\n",
    "h = tf.layers.batch_normalization(h, training=is_training)\n",
    "h = tf.layers.dropout            (h, 0.5, training=is_training)\n",
    "h = tf.layers.dense              (h, 170, tf.nn.relu)\n",
    "h = tf.layers.batch_normalization(h, training=is_training)\n",
    "h = tf.layers.dropout            (h, 0.5, training=is_training)\n",
    "y = tf.layers.dense              (h, 2, tf.nn.softmax)\n",
    "\n",
    "correct_prediction = tf.equal(tf.argmax(y, 1), tf.argmax(t, 1))\n",
    "accuracy           = tf.reduce_mean(tf.cast(correct_prediction, tf.float32))\n",
    "importance_vector  = tf.sigmoid(-logit_p)\n",
    "\n",
    "regularizer_coef   = 0.1\n",
    "regularizer_loss   = regularizer_coef * tf.reduce_sum(eval_regularizer(logit_p))\n",
    "crossentropy_loss  = tf.reduce_mean(-tf.reduce_sum(t * tf.log(y + eps), axis=1))\n",
    "loss               = tf.cond(is_pretrain, \n",
    "                             lambda: crossentropy_loss, \n",
    "                             lambda: crossentropy_loss + annealed_lambda * regularizer_loss)\n",
    "train_step         = tf.train.AdamOptimizer().minimize(loss)\n",
    "\n",
    "batch_size = 200\n",
    "n_batches  = len(X_train) // batch_size\n",
    "with tf.Session() as sess:\n",
    "    sess.run(tf.global_variables_initializer())\n",
    "\n",
    "    #\n",
    "    # phase: pretraining\n",
    "    #\n",
    "    epoches = 200\n",
    "    for epoch in tqdm(range(epoches)):\n",
    "        X_, Y_ = utils.shuffle(X_train, Y_train)\n",
    "\n",
    "        for i in range(n_batches):\n",
    "            start = i * batch_size\n",
    "            end   = start + batch_size\n",
    "\n",
    "            sess.run(train_step, feed_dict={\n",
    "                x: X_[start:end],\n",
    "                t: Y_[start:end],\n",
    "                is_training: True,\n",
    "                is_pretrain: True,\n",
    "                annealed_lambda: annealing(epoch, epoches),\n",
    "                })\n",
    "\n",
    "        # print(epoch, sess.run([loss, accuracy], feed_dict={\n",
    "        #     x: X_test,\n",
    "        #     t: Y_test,\n",
    "        #     is_training: False,\n",
    "        #     is_pretrain: True,\n",
    "        #     annealed_lambda: annealing(epoch, epoches),\n",
    "        #     }))\n",
    "\n",
    "    #\n",
    "    # phase: learning prob\n",
    "    #\n",
    "    epoches = 500\n",
    "    for epoch in tqdm(range(epoches)):\n",
    "        X_, Y_ = utils.shuffle(X_train, Y_train)\n",
    "\n",
    "        for i in range(n_batches):\n",
    "            start = i * batch_size\n",
    "            end   = start + batch_size\n",
    "\n",
    "            sess.run(train_step, feed_dict={\n",
    "                x: X_[start:end],\n",
    "                t: Y_[start:end],\n",
    "                is_training: True,\n",
    "                is_pretrain: False,\n",
    "                annealed_lambda: annealing(epoch, epoches),\n",
    "                })\n",
    "\n",
    "        # print(epoch, sess.run([loss, accuracy], feed_dict={\n",
    "        #     x: X_test,\n",
    "        #     t: Y_test,\n",
    "        #     is_training: False,\n",
    "        #     is_pretrain: False,\n",
    "        #     annealed_lambda: annealing(epoch, epoches),\n",
    "        #     }))\n",
    "\n",
    "    nn_importance_vector = sess.run(importance_vector, feed_dict={\n",
    "            x: X_test,\n",
    "            t: Y_test,\n",
    "            is_training: False,\n",
    "            is_pretrain: False,\n",
    "            annealed_lambda: 1.0,\n",
    "            })"
   ]
  },
  {
   "cell_type": "code",
   "execution_count": 43,
   "metadata": {
    "ExecuteTime": {
     "end_time": "2019-02-21T11:39:39.671742Z",
     "start_time": "2019-02-21T11:39:38.675462Z"
    }
   },
   "outputs": [
    {
     "data": {
      "text/plain": [
       "四肢血圧_RbaPWV     0.998976\n",
       "四肢血圧_LbaPWV     0.998653\n",
       "delta_lm_AUC    0.004743\n",
       "lg_AUC          0.001910\n",
       "lm_AUC          0.001367\n",
       "dtype: float32"
      ]
     },
     "execution_count": 43,
     "metadata": {},
     "output_type": "execute_result"
    },
    {
     "data": {
      "image/png": "[encoded data removed]",
      "text/plain": [
       "<Figure size 864x576 with 2 Axes>"
      ]
     },
     "metadata": {
      "needs_background": "light"
     },
     "output_type": "display_data"
    }
   ],
   "source": [
    "################################################################################\n",
    "# feature importance by VariationalDropoutNN\n",
    "################################################################################\n",
    "plt.figure(figsize=(12, 8))\n",
    "sns.heatmap(np.reshape(nn_importance_vector, (109, -1)))\n",
    "\n",
    "imp = pd.Series(nn_importance_vector)\n",
    "imp.index = pd.Series(df[df.columns ^ mask].columns)\n",
    "imp.sort_values(ascending=False).head()"
   ]
  },
  {
   "cell_type": "code",
   "execution_count": 46,
   "metadata": {
    "ExecuteTime": {
     "end_time": "2019-02-21T11:39:52.546445Z",
     "start_time": "2019-02-21T11:39:49.357608Z"
    }
   },
   "outputs": [
    {
     "name": "stderr",
     "output_type": "stream",
     "text": [
      "/home/hiroyam/.local/share/virtualenvs/data-u-kyoto-feature-_MSQN99e/lib/python3.6/site-packages/sklearn/ensemble/forest.py:246: FutureWarning: The default value of n_estimators will change from 10 in version 0.20 to 100 in 0.22.\n",
      "  \"10 in version 0.20 to 100 in 0.22.\", FutureWarning)\n"
     ]
    },
    {
     "name": "stdout",
     "output_type": "stream",
     "text": [
      "四肢血圧_RbaPWV         0.038710\n",
      "脚点                  0.037129\n",
      "四肢血圧_LbaPWV         0.016552\n",
      "両足-X_50kHz          0.013252\n",
      "健康状況_服薬_処方薬の有無_2    0.010943\n",
      "dtype: float64\n"
     ]
    },
    {
     "data": {
      "image/png": "[encoded data removed]",
      "text/plain": [
       "<Figure size 864x576 with 2 Axes>"
      ]
     },
     "metadata": {
      "needs_background": "light"
     },
     "output_type": "display_data"
    }
   ],
   "source": [
    "################################################################################\n",
    "# feature importance by RandomForest\n",
    "################################################################################\n",
    "clf = ensemble.RandomForestClassifier()\n",
    "clf.fit(X_train, Y_train)\n",
    "plt.figure(figsize=(12, 8))\n",
    "sns.heatmap(np.reshape(clf.feature_importances_, (109, -1)))\n",
    "    \n",
    "imp = pd.Series(clf.feature_importances_)\n",
    "imp.index = pd.Series(df[df.columns ^ mask].columns)\n",
    "print(imp.sort_values(ascending=False).head())"
   ]
  },
  {
   "cell_type": "code",
   "execution_count": null,
   "metadata": {},
   "outputs": [],
   "source": []
  },
  {
   "cell_type": "code",
   "execution_count": null,
   "metadata": {},
   "outputs": [],
   "source": []
  },
  {
   "cell_type": "code",
   "execution_count": null,
   "metadata": {},
   "outputs": [],
   "source": []
  },
  {
   "cell_type": "code",
   "execution_count": null,
   "metadata": {},
   "outputs": [],
   "source": []
  },
  {
   "cell_type": "code",
   "execution_count": null,
   "metadata": {},
   "outputs": [],
   "source": []
  },
  {
   "cell_type": "code",
   "execution_count": null,
   "metadata": {},
   "outputs": [],
   "source": []
  },
  {
   "cell_type": "code",
   "execution_count": null,
   "metadata": {},
   "outputs": [],
   "source": []
  },
  {
   "cell_type": "code",
   "execution_count": null,
   "metadata": {},
   "outputs": [],
   "source": []
  },
  {
   "cell_type": "code",
   "execution_count": null,
   "metadata": {},
   "outputs": [],
   "source": []
  },
  {
   "cell_type": "code",
   "execution_count": null,
   "metadata": {},
   "outputs": [],
   "source": []
  },
  {
   "cell_type": "code",
   "execution_count": null,
   "metadata": {},
   "outputs": [],
   "source": []
  },
  {
   "cell_type": "code",
   "execution_count": null,
   "metadata": {},
   "outputs": [],
   "source": []
  },
  {
   "cell_type": "code",
   "execution_count": null,
   "metadata": {},
   "outputs": [],
   "source": []
  },
  {
   "cell_type": "code",
   "execution_count": null,
   "metadata": {},
   "outputs": [],
   "source": []
  },
  {
   "cell_type": "code",
   "execution_count": null,
   "metadata": {},
   "outputs": [],
   "source": []
  },
  {
   "cell_type": "code",
   "execution_count": null,
   "metadata": {},
   "outputs": [],
   "source": []
  },
  {
   "cell_type": "code",
   "execution_count": null,
   "metadata": {},
   "outputs": [],
   "source": []
  },
  {
   "cell_type": "code",
   "execution_count": null,
   "metadata": {},
   "outputs": [],
   "source": []
  },
  {
   "cell_type": "code",
   "execution_count": null,
   "metadata": {},
   "outputs": [],
   "source": []
  },
  {
   "cell_type": "code",
   "execution_count": null,
   "metadata": {},
   "outputs": [],
   "source": []
  },
  {
   "cell_type": "code",
   "execution_count": null,
   "metadata": {},
   "outputs": [],
   "source": []
  },
  {
   "cell_type": "code",
   "execution_count": null,
   "metadata": {},
   "outputs": [],
   "source": []
  },
  {
   "cell_type": "code",
   "execution_count": null,
   "metadata": {},
   "outputs": [],
   "source": []
  },
  {
   "cell_type": "code",
   "execution_count": null,
   "metadata": {},
   "outputs": [],
   "source": []
  },
  {
   "cell_type": "code",
   "execution_count": null,
   "metadata": {},
   "outputs": [],
   "source": []
  },
  {
   "cell_type": "code",
   "execution_count": null,
   "metadata": {},
   "outputs": [],
   "source": []
  },
  {
   "cell_type": "code",
   "execution_count": null,
   "metadata": {},
   "outputs": [],
   "source": []
  },
  {
   "cell_type": "code",
   "execution_count": null,
   "metadata": {},
   "outputs": [],
   "source": []
  },
  {
   "cell_type": "code",
   "execution_count": null,
   "metadata": {},
   "outputs": [],
   "source": []
  },
  {
   "cell_type": "code",
   "execution_count": null,
   "metadata": {},
   "outputs": [],
   "source": []
  },
  {
   "cell_type": "code",
   "execution_count": null,
   "metadata": {},
   "outputs": [],
   "source": []
  },
  {
   "cell_type": "code",
   "execution_count": null,
   "metadata": {},
   "outputs": [],
   "source": []
  },
  {
   "cell_type": "code",
   "execution_count": null,
   "metadata": {},
   "outputs": [],
   "source": []
  },
  {
   "cell_type": "code",
   "execution_count": null,
   "metadata": {},
   "outputs": [],
   "source": []
  },
  {
   "cell_type": "code",
   "execution_count": null,
   "metadata": {},
   "outputs": [],
   "source": []
  },
  {
   "cell_type": "code",
   "execution_count": null,
   "metadata": {},
   "outputs": [],
   "source": []
  },
  {
   "cell_type": "code",
   "execution_count": null,
   "metadata": {},
   "outputs": [],
   "source": []
  },
  {
   "cell_type": "code",
   "execution_count": null,
   "metadata": {},
   "outputs": [],
   "source": []
  },
  {
   "cell_type": "code",
   "execution_count": null,
   "metadata": {},
   "outputs": [],
   "source": []
  },
  {
   "cell_type": "code",
   "execution_count": null,
   "metadata": {},
   "outputs": [],
   "source": []
  },
  {
   "cell_type": "code",
   "execution_count": null,
   "metadata": {},
   "outputs": [],
   "source": []
  },
  {
   "cell_type": "code",
   "execution_count": null,
   "metadata": {},
   "outputs": [],
   "source": []
  },
  {
   "cell_type": "code",
   "execution_count": null,
   "metadata": {},
   "outputs": [],
   "source": [
    "\n",
    "\n",
    "\n",
    "\n",
    "\n",
    "\n",
    "\n",
    "\n",
    "\n",
    "\n",
    "\n",
    "\n"
   ]
  }
 ],
 "metadata": {
  "_draft": {
   "nbviewer_url": "https://gist.github.com/f68b5a077d0b699fe92ccb28a8bfee94"
  },
  "gist": {
   "data": {
    "description": "",
    "public": false
   },
   "id": "f68b5a077d0b699fe92ccb28a8bfee94"
  },
  "kernelspec": {
   "display_name": "Python 3",
   "language": "python",
   "name": "python3"
  },
  "language_info": {
   "codemirror_mode": {
    "name": "ipython",
    "version": 3
   },
   "file_extension": ".py",
   "mimetype": "text/x-python",
   "name": "python",
   "nbconvert_exporter": "python",
   "pygments_lexer": "ipython3",
   "version": "3.6.4"
  },
  "notify_time": "30",
  "varInspector": {
   "cols": {
    "lenName": 16,
    "lenType": 16,
    "lenVar": 40
   },
   "kernels_config": {
    "python": {
     "delete_cmd_postfix": "",
     "delete_cmd_prefix": "del ",
     "library": "var_list.py",
     "varRefreshCmd": "print(var_dic_list())"
    },
    "r": {
     "delete_cmd_postfix": ") ",
     "delete_cmd_prefix": "rm(",
     "library": "var_list.r",
     "varRefreshCmd": "cat(var_dic_list()) "
    }
   },
   "position": {
    "height": "430px",
    "left": "833px",
    "right": "18px",
    "top": "36px",
    "width": "564px"
   },
   "types_to_exclude": [
    "module",
    "function",
    "builtin_function_or_method",
    "instance",
    "_Feature"
   ],
   "window_display": false
  }
 },
 "nbformat": 4,
 "nbformat_minor": 2
}

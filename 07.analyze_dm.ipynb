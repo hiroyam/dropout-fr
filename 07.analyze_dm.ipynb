{
 "cells": [
  {
   "cell_type": "code",
   "execution_count": 1,
   "metadata": {
    "ExecuteTime": {
     "end_time": "2019-02-21T13:03:53.267224Z",
     "start_time": "2019-02-21T13:03:51.974719Z"
    },
    "code_folding": [],
    "scrolled": false
   },
   "outputs": [
    {
     "data": {
      "application/vnd.jupyter.widget-view+json": {
       "model_id": "2fcf4184bff143e290b611f2bc5a0e92",
       "version_major": 2,
       "version_minor": 0
      },
      "text/plain": [
       "HBox(children=(IntProgress(value=1, bar_style='info', max=1), HTML(value='')))"
      ]
     },
     "metadata": {},
     "output_type": "display_data"
    },
    {
     "name": "stdout",
     "output_type": "stream",
     "text": [
      "\n"
     ]
    }
   ],
   "source": [
    "import numpy as np\n",
    "import pandas as pd\n",
    "import tensorflow as tf\n",
    "from sklearn import utils\n",
    "from sklearn import model_selection\n",
    "from sklearn import ensemble\n",
    "\n",
    "import matplotlib as mpl\n",
    "mpl.use('Agg')\n",
    "import matplotlib.pyplot as plt\n",
    "import seaborn as sns\n",
    "%matplotlib inline\n",
    "\n",
    "from tqdm import tqdm_notebook as tqdm\n",
    "from tqdm import tnrange\n",
    "tqdm().pandas()\n",
    "\n",
    "eps = 1e-7"
   ]
  },
  {
   "cell_type": "code",
   "execution_count": 2,
   "metadata": {
    "ExecuteTime": {
     "end_time": "2019-02-21T13:03:53.492869Z",
     "start_time": "2019-02-21T13:03:53.269144Z"
    }
   },
   "outputs": [
    {
     "data": {
      "text/html": [
       "<div>\n",
       "<style scoped>\n",
       "    .dataframe tbody tr th:only-of-type {\n",
       "        vertical-align: middle;\n",
       "    }\n",
       "\n",
       "    .dataframe tbody tr th {\n",
       "        vertical-align: top;\n",
       "    }\n",
       "\n",
       "    .dataframe thead th {\n",
       "        text-align: right;\n",
       "    }\n",
       "</style>\n",
       "<table border=\"1\" class=\"dataframe\">\n",
       "  <thead>\n",
       "    <tr style=\"text-align: right;\">\n",
       "      <th></th>\n",
       "      <th>year</th>\n",
       "      <th>cypher_id</th>\n",
       "      <th>1000kHz-LA Impedance</th>\n",
       "      <th>1000kHz-LL Impedance</th>\n",
       "      <th>1000kHz-RA Impedance</th>\n",
       "      <th>1000kHz-RL Impedance</th>\n",
       "      <th>1000kHz-TR Impedance</th>\n",
       "      <th>10m最大歩行速度</th>\n",
       "      <th>10m最大歩行速度_1回目</th>\n",
       "      <th>10m最大歩行速度_2回目</th>\n",
       "      <th>...</th>\n",
       "      <th>高血圧_罹患歴あり</th>\n",
       "      <th>Ｈピロリ抗体判定_補助コメント_nan</th>\n",
       "      <th>Ｈピロリ抗体判定_補助コメント_測定不能</th>\n",
       "      <th>Ｈピロリ抗体濃度_補助コメント_nan</th>\n",
       "      <th>Ｈピロリ抗体濃度_補助コメント_測定不能</th>\n",
       "      <th>Ｍ２ＢＰＧｉ_判定_nan</th>\n",
       "      <th>ﾀｹﾌﾟﾛﾝ、ﾊﾟﾘｴｯﾄ2.その他3.わからない_nan</th>\n",
       "      <th>ﾀｹﾌﾟﾛﾝ、ﾊﾟﾘｴｯﾄ2.その他3.わからない_その他</th>\n",
       "      <th>ﾀｹﾌﾟﾛﾝ、ﾊﾟﾘｴｯﾄ2.その他3.わからない_わからない</th>\n",
       "      <th>ﾀｹﾌﾟﾛﾝ、ﾊﾟﾘｴｯﾄ2.その他3.わからない_ｵﾒﾌﾟﾗｰﾙ、ﾀｹﾌﾟﾛﾝ、ﾊﾟﾘｴｯﾄ</th>\n",
       "    </tr>\n",
       "  </thead>\n",
       "  <tbody>\n",
       "    <tr>\n",
       "      <th>53</th>\n",
       "      <td>2005-01-01</td>\n",
       "      <td>17Afbh8E</td>\n",
       "      <td>287.381835</td>\n",
       "      <td>218.354021</td>\n",
       "      <td>281.305393</td>\n",
       "      <td>216.9228</td>\n",
       "      <td>16.926585</td>\n",
       "      <td>4.572307</td>\n",
       "      <td>4.206414</td>\n",
       "      <td>4.150884</td>\n",
       "      <td>...</td>\n",
       "      <td>0</td>\n",
       "      <td>1</td>\n",
       "      <td>0</td>\n",
       "      <td>1</td>\n",
       "      <td>0</td>\n",
       "      <td>1</td>\n",
       "      <td>1</td>\n",
       "      <td>0</td>\n",
       "      <td>0</td>\n",
       "      <td>0</td>\n",
       "    </tr>\n",
       "    <tr>\n",
       "      <th>124</th>\n",
       "      <td>2005-01-01</td>\n",
       "      <td>2oCe7U5f</td>\n",
       "      <td>287.381835</td>\n",
       "      <td>218.354021</td>\n",
       "      <td>281.305393</td>\n",
       "      <td>216.9228</td>\n",
       "      <td>16.926585</td>\n",
       "      <td>4.572307</td>\n",
       "      <td>4.206414</td>\n",
       "      <td>4.150884</td>\n",
       "      <td>...</td>\n",
       "      <td>0</td>\n",
       "      <td>1</td>\n",
       "      <td>0</td>\n",
       "      <td>1</td>\n",
       "      <td>0</td>\n",
       "      <td>1</td>\n",
       "      <td>1</td>\n",
       "      <td>0</td>\n",
       "      <td>0</td>\n",
       "      <td>0</td>\n",
       "    </tr>\n",
       "    <tr>\n",
       "      <th>128</th>\n",
       "      <td>2005-01-01</td>\n",
       "      <td>2qeXpjso</td>\n",
       "      <td>287.381835</td>\n",
       "      <td>218.354021</td>\n",
       "      <td>281.305393</td>\n",
       "      <td>216.9228</td>\n",
       "      <td>16.926585</td>\n",
       "      <td>4.572307</td>\n",
       "      <td>4.206414</td>\n",
       "      <td>4.150884</td>\n",
       "      <td>...</td>\n",
       "      <td>0</td>\n",
       "      <td>1</td>\n",
       "      <td>0</td>\n",
       "      <td>1</td>\n",
       "      <td>0</td>\n",
       "      <td>1</td>\n",
       "      <td>1</td>\n",
       "      <td>0</td>\n",
       "      <td>0</td>\n",
       "      <td>0</td>\n",
       "    </tr>\n",
       "    <tr>\n",
       "      <th>175</th>\n",
       "      <td>2005-01-01</td>\n",
       "      <td>3jLE7iLx</td>\n",
       "      <td>287.381835</td>\n",
       "      <td>218.354021</td>\n",
       "      <td>281.305393</td>\n",
       "      <td>216.9228</td>\n",
       "      <td>16.926585</td>\n",
       "      <td>4.572307</td>\n",
       "      <td>4.206414</td>\n",
       "      <td>4.150884</td>\n",
       "      <td>...</td>\n",
       "      <td>0</td>\n",
       "      <td>1</td>\n",
       "      <td>0</td>\n",
       "      <td>1</td>\n",
       "      <td>0</td>\n",
       "      <td>1</td>\n",
       "      <td>1</td>\n",
       "      <td>0</td>\n",
       "      <td>0</td>\n",
       "      <td>0</td>\n",
       "    </tr>\n",
       "    <tr>\n",
       "      <th>177</th>\n",
       "      <td>2005-01-01</td>\n",
       "      <td>3l2MvLB8</td>\n",
       "      <td>287.381835</td>\n",
       "      <td>218.354021</td>\n",
       "      <td>281.305393</td>\n",
       "      <td>216.9228</td>\n",
       "      <td>16.926585</td>\n",
       "      <td>4.572307</td>\n",
       "      <td>4.206414</td>\n",
       "      <td>4.150884</td>\n",
       "      <td>...</td>\n",
       "      <td>0</td>\n",
       "      <td>1</td>\n",
       "      <td>0</td>\n",
       "      <td>1</td>\n",
       "      <td>0</td>\n",
       "      <td>1</td>\n",
       "      <td>1</td>\n",
       "      <td>0</td>\n",
       "      <td>0</td>\n",
       "      <td>0</td>\n",
       "    </tr>\n",
       "  </tbody>\n",
       "</table>\n",
       "<p>5 rows × 5653 columns</p>\n",
       "</div>"
      ],
      "text/plain": [
       "          year cypher_id  1000kHz-LA Impedance  1000kHz-LL Impedance  \\\n",
       "53  2005-01-01  17Afbh8E            287.381835            218.354021   \n",
       "124 2005-01-01  2oCe7U5f            287.381835            218.354021   \n",
       "128 2005-01-01  2qeXpjso            287.381835            218.354021   \n",
       "175 2005-01-01  3jLE7iLx            287.381835            218.354021   \n",
       "177 2005-01-01  3l2MvLB8            287.381835            218.354021   \n",
       "\n",
       "     1000kHz-RA Impedance  1000kHz-RL Impedance  1000kHz-TR Impedance  \\\n",
       "53             281.305393              216.9228             16.926585   \n",
       "124            281.305393              216.9228             16.926585   \n",
       "128            281.305393              216.9228             16.926585   \n",
       "175            281.305393              216.9228             16.926585   \n",
       "177            281.305393              216.9228             16.926585   \n",
       "\n",
       "     10m最大歩行速度  10m最大歩行速度_1回目  10m最大歩行速度_2回目  \\\n",
       "53    4.572307       4.206414       4.150884   \n",
       "124   4.572307       4.206414       4.150884   \n",
       "128   4.572307       4.206414       4.150884   \n",
       "175   4.572307       4.206414       4.150884   \n",
       "177   4.572307       4.206414       4.150884   \n",
       "\n",
       "                          ...                         高血圧_罹患歴あり  \\\n",
       "53                        ...                                 0   \n",
       "124                       ...                                 0   \n",
       "128                       ...                                 0   \n",
       "175                       ...                                 0   \n",
       "177                       ...                                 0   \n",
       "\n",
       "     Ｈピロリ抗体判定_補助コメント_nan  Ｈピロリ抗体判定_補助コメント_測定不能  Ｈピロリ抗体濃度_補助コメント_nan  \\\n",
       "53                     1                     0                    1   \n",
       "124                    1                     0                    1   \n",
       "128                    1                     0                    1   \n",
       "175                    1                     0                    1   \n",
       "177                    1                     0                    1   \n",
       "\n",
       "     Ｈピロリ抗体濃度_補助コメント_測定不能  Ｍ２ＢＰＧｉ_判定_nan  ﾀｹﾌﾟﾛﾝ、ﾊﾟﾘｴｯﾄ2.その他3.わからない_nan  \\\n",
       "53                      0              1                              1   \n",
       "124                     0              1                              1   \n",
       "128                     0              1                              1   \n",
       "175                     0              1                              1   \n",
       "177                     0              1                              1   \n",
       "\n",
       "     ﾀｹﾌﾟﾛﾝ、ﾊﾟﾘｴｯﾄ2.その他3.わからない_その他  ﾀｹﾌﾟﾛﾝ、ﾊﾟﾘｴｯﾄ2.その他3.わからない_わからない  \\\n",
       "53                               0                                0   \n",
       "124                              0                                0   \n",
       "128                              0                                0   \n",
       "175                              0                                0   \n",
       "177                              0                                0   \n",
       "\n",
       "     ﾀｹﾌﾟﾛﾝ、ﾊﾟﾘｴｯﾄ2.その他3.わからない_ｵﾒﾌﾟﾗｰﾙ、ﾀｹﾌﾟﾛﾝ、ﾊﾟﾘｴｯﾄ  \n",
       "53                                                 0  \n",
       "124                                                0  \n",
       "128                                                0  \n",
       "175                                                0  \n",
       "177                                                0  \n",
       "\n",
       "[5 rows x 5653 columns]"
      ]
     },
     "execution_count": 2,
     "metadata": {},
     "output_type": "execute_result"
    }
   ],
   "source": [
    "df = pd.read_hdf('tmp/06.tmp', 'df')\n",
    "df.head()"
   ]
  },
  {
   "cell_type": "code",
   "execution_count": 3,
   "metadata": {
    "ExecuteTime": {
     "end_time": "2019-02-21T13:03:53.892202Z",
     "start_time": "2019-02-21T13:03:53.494462Z"
    }
   },
   "outputs": [],
   "source": [
    "mask = ['year', 'cypher_id', 'diag_DM']\n",
    "X = df[df.columns ^ mask]\n",
    "Y = np.eye(2)[df['diag_DM'].astype(np.int)]\n",
    "X_train, X_test, Y_train, Y_test = model_selection.train_test_split(X, Y)"
   ]
  },
  {
   "cell_type": "code",
   "execution_count": 17,
   "metadata": {
    "ExecuteTime": {
     "end_time": "2019-02-22T07:02:14.913645Z",
     "start_time": "2019-02-22T06:53:14.368265Z"
    },
    "scrolled": false
   },
   "outputs": [
    {
     "data": {
      "application/vnd.jupyter.widget-view+json": {
       "model_id": "b76f9bec8fe0413795d779fbf288defd",
       "version_major": 2,
       "version_minor": 0
      },
      "text/plain": [
       "HBox(children=(IntProgress(value=0, max=200), HTML(value='')))"
      ]
     },
     "metadata": {},
     "output_type": "display_data"
    },
    {
     "name": "stdout",
     "output_type": "stream",
     "text": [
      "0 [10.602686, 0.3421875]\n",
      "1 [13.42839, 0.166875]\n",
      "2 [3.0825858, 0.80875]\n",
      "3 [1.4405549, 0.910625]\n",
      "4 [1.4355178, 0.9109375]\n",
      "5 [1.420407, 0.911875]\n",
      "6 [1.420407, 0.911875]\n",
      "7 [1.4405546, 0.910625]\n",
      "8 [1.7629169, 0.890625]\n",
      "9 [1.8233595, 0.886875]\n",
      "10 [1.9039501, 0.881875]\n",
      "11 [2.2565336, 0.86]\n",
      "12 [7.0768514, 0.5609375]\n",
      "13 [1.4455917, 0.9103125]\n",
      "14 [1.4506285, 0.91]\n",
      "15 [1.4909238, 0.9075]\n",
      "16 [1.5161083, 0.9059375]\n",
      "17 [1.430481, 0.91125]\n",
      "18 [1.4506285, 0.91]\n",
      "19 [1.5009977, 0.906875]\n",
      "20 [1.4455917, 0.9103125]\n",
      "21 [2.3874242, 0.851875]\n",
      "22 [1.6118097, 0.9]\n",
      "23 [1.4455916, 0.9103125]\n",
      "24 [1.4455916, 0.9103125]\n",
      "25 [2.5537107, 0.8415625]\n",
      "26 [1.4657393, 0.9090625]\n",
      "27 [1.7679536, 0.8903125]\n",
      "28 [1.6067727, 0.9003125]\n",
      "29 [1.5715142, 0.9025]\n",
      "30 [1.4858868, 0.9078125]\n",
      "31 [3.0400953, 0.81125]\n",
      "32 [1.5110714, 0.90625]\n",
      "33 [2.1507583, 0.8665625]\n",
      "34 [1.5614406, 0.903125]\n",
      "35 [2.1205244, 0.8684375]\n",
      "36 [1.6369941, 0.8984375]\n",
      "37 [1.5715142, 0.9025]\n",
      "38 [2.0361528, 0.8734375]\n",
      "39 [1.7348965, 0.8921875]\n",
      "40 [6.475229, 0.598125]\n",
      "41 [8.542591, 0.47]\n",
      "42 [7.6987376, 0.5221875]\n",
      "43 [1.6877656, 0.895]\n",
      "44 [6.5748787, 0.591875]\n",
      "45 [12.677891, 0.2134375]\n",
      "46 [12.038203, 0.253125]\n",
      "47 [8.931684, 0.445625]\n",
      "48 [10.351355, 0.3575]\n",
      "49 [3.8606625, 0.76]\n",
      "50 [12.541895, 0.221875]\n",
      "51 [7.4886055, 0.5346875]\n",
      "52 [4.5735097, 0.71625]\n",
      "53 [13.0053215, 0.193125]\n",
      "54 [1.5211452, 0.905625]\n",
      "55 [14.027781, 0.1296875]\n",
      "56 [13.796084, 0.1440625]\n",
      "57 [1.5110714, 0.90625]\n",
      "58 [11.231751, 0.3028125]\n",
      "59 [8.859915, 0.4503125]\n",
      "60 [1.5060345, 0.9065625]\n",
      "61 [1.737732, 0.8921875]\n",
      "62 [2.0651312, 0.871875]\n",
      "63 [1.581588, 0.901875]\n",
      "64 [1.5110714, 0.90625]\n",
      "65 [1.8290474, 0.88625]\n",
      "66 [13.91697, 0.1365625]\n",
      "67 [1.5916618, 0.90125]\n",
      "68 [2.9286387, 0.818125]\n",
      "69 [3.1454585, 0.8046875]\n",
      "70 [9.026134, 0.44]\n",
      "71 [11.831691, 0.2659375]\n",
      "72 [14.093263, 0.125625]\n",
      "73 [7.1959977, 0.5528125]\n",
      "74 [13.0204, 0.1921875]\n",
      "75 [11.181314, 0.305]\n",
      "76 [1.4758132, 0.9084375]\n",
      "77 [1.4556655, 0.9096875]\n",
      "78 [1.4959607, 0.9071875]\n",
      "79 [3.5376437, 0.7803125]\n",
      "80 [2.2904372, 0.8578125]\n",
      "81 [4.8363924, 0.6996875]\n",
      "82 [2.6947439, 0.8328125]\n",
      "83 [1.5513667, 0.90375]\n",
      "84 [1.5060345, 0.9065625]\n",
      "85 [1.6470679, 0.8978125]\n",
      "86 [3.3509557, 0.791875]\n",
      "87 [1.485887, 0.9078125]\n",
      "88 [1.4657042, 0.9090625]\n",
      "89 [1.536256, 0.9046875]\n",
      "90 [1.4707762, 0.90875]\n",
      "91 [2.60408, 0.8384375]\n",
      "92 [1.531219, 0.905]\n",
      "93 [2.0953524, 0.87]\n",
      "94 [1.4556655, 0.9096875]\n",
      "95 [2.6242273, 0.8371875]\n",
      "96 [4.6573257, 0.7109375]\n",
      "97 [1.485887, 0.9078125]\n",
      "98 [1.4556655, 0.9096875]\n",
      "99 [1.4355178, 0.9109375]\n",
      "100 [2.0248358, 0.874375]\n",
      "101 [2.0550573, 0.8725]\n",
      "102 [2.0349097, 0.87375]\n",
      "103 [2.014762, 0.875]\n",
      "104 [3.0976965, 0.8078125]\n",
      "105 [3.7021253, 0.7703125]\n",
      "106 [2.004688, 0.875625]\n",
      "107 [1.5060345, 0.9065625]\n",
      "108 [1.4355178, 0.9109375]\n",
      "109 [1.4355178, 0.9109375]\n",
      "110 [1.4405546, 0.910625]\n",
      "111 [1.485887, 0.9078125]\n",
      "112 [2.1557953, 0.86625]\n",
      "113 [1.4355178, 0.9109375]\n",
      "114 [2.1356478, 0.8675]\n",
      "115 [2.6198728, 0.8371875]\n",
      "116 [5.9234004, 0.6325]\n",
      "117 [5.1943235, 0.6775]\n",
      "118 [1.4657393, 0.9090625]\n",
      "119 [1.9543191, 0.87875]\n",
      "120 [3.9841797, 0.7528125]\n",
      "121 [10.229101, 0.365]\n",
      "122 [2.1860166, 0.864375]\n",
      "123 [2.0298727, 0.8740625]\n",
      "124 [4.462698, 0.723125]\n",
      "125 [1.4657393, 0.9090625]\n",
      "126 [2.0500205, 0.8728125]\n",
      "127 [1.4959607, 0.9071875]\n",
      "128 [1.9946144, 0.87625]\n",
      "129 [1.430481, 0.91125]\n",
      "130 [2.5083785, 0.844375]\n",
      "131 [13.315226, 0.17375]\n",
      "132 [1.8183227, 0.8871875]\n",
      "133 [1.4657393, 0.9090625]\n",
      "134 [1.8922968, 0.8825]\n",
      "135 [1.7427691, 0.891875]\n",
      "136 [1.531219, 0.905]\n",
      "137 [1.5060345, 0.9065625]\n",
      "138 [1.5009977, 0.906875]\n",
      "139 [1.6017357, 0.900625]\n",
      "140 [1.5513666, 0.90375]\n",
      "141 [1.430481, 0.91125]\n",
      "142 [2.3270502, 0.855625]\n",
      "143 [1.6621786, 0.896875]\n",
      "144 [1.5009977, 0.906875]\n",
      "145 [1.4858868, 0.9078125]\n",
      "146 [3.094712, 0.8078125]\n",
      "147 [1.4707785, 0.90875]\n",
      "148 [8.965691, 0.44375]\n",
      "149 [12.028129, 0.25375]\n",
      "150 [14.69769, 0.088125]\n",
      "151 [13.070769, 0.1890625]\n",
      "152 [8.300906, 0.484375]\n",
      "153 [7.93974, 0.5071875]\n",
      "154 [11.177489, 0.30625]\n",
      "155 [14.455918, 0.103125]\n",
      "156 [8.199674, 0.490625]\n",
      "157 [14.69769, 0.088125]\n",
      "158 [14.433302, 0.104375]\n",
      "159 [1.9341714, 0.88]\n",
      "160 [2.3723822, 0.8528125]\n",
      "161 [2.1104631, 0.8690625]\n",
      "162 [1.5211453, 0.905625]\n",
      "163 [1.536256, 0.9046875]\n",
      "164 [1.7780273, 0.8896875]\n",
      "165 [1.9341714, 0.88]\n",
      "166 [1.5161084, 0.9059375]\n",
      "167 [1.5060345, 0.9065625]\n",
      "168 [1.5614405, 0.903125]\n",
      "169 [8.153903, 0.4940625]\n",
      "170 [3.8381188, 0.761875]\n",
      "171 [8.663476, 0.4625]\n",
      "172 [7.198628, 0.553125]\n",
      "173 [1.526182, 0.9053125]\n",
      "174 [1.4959607, 0.9071875]\n",
      "175 [1.4355179, 0.9109375]\n",
      "176 [4.291443, 0.73375]\n",
      "177 [1.5060344, 0.9065625]\n",
      "178 [1.5060345, 0.9065625]\n",
      "179 [14.304812, 0.1125]\n",
      "180 [5.2258315, 0.675625]\n",
      "181 [2.014762, 0.875]\n",
      "182 [14.350144, 0.1096875]\n",
      "183 [12.651149, 0.215]\n",
      "184 [10.273354, 0.3621875]\n",
      "185 [6.8053155, 0.5775]\n",
      "186 [3.666163, 0.7721875]\n",
      "187 [6.4824967, 0.5978125]\n",
      "188 [1.6756539, 0.8959375]\n",
      "189 [1.5110713, 0.90625]\n",
      "190 [1.5412927, 0.904375]\n",
      "191 [2.5184524, 0.84375]\n",
      "192 [2.5184524, 0.84375]\n",
      "193 [1.6470677, 0.8978125]\n",
      "194 [6.525123, 0.595]\n",
      "195 [1.5463299, 0.9040625]\n",
      "196 [3.5459812, 0.78]\n",
      "197 [1.526182, 0.9053125]\n",
      "198 [3.3293943, 0.7934375]\n",
      "199 [6.4321156, 0.6009375]\n"
     ]
    },
    {
     "data": {
      "application/vnd.jupyter.widget-view+json": {
       "model_id": "916452e89d2e409c99b9794696bad109",
       "version_major": 2,
       "version_minor": 0
      },
      "text/plain": [
       "HBox(children=(IntProgress(value=0, max=500), HTML(value='')))"
      ]
     },
     "metadata": {},
     "output_type": "display_data"
    }
   ],
   "source": [
    "################################################################################\n",
    "# dropout feature ranking\n",
    "################################################################################\n",
    "#\n",
    "# helper functions\n",
    "#\n",
    "def concrete_dropout_neuron(dropout_p, shape, temp=1.0 / 10.0):\n",
    "    unif_noise = tf.random_uniform(shape)\n",
    "    approx = (\n",
    "          tf.log(dropout_p + eps)\n",
    "        - tf.log(1. - dropout_p + eps)\n",
    "        + tf.log(unif_noise + eps)\n",
    "        - tf.log(1. - unif_noise + eps)\n",
    "    )\n",
    "    approx_output = tf.sigmoid(approx / temp)\n",
    "    return 1. - approx_output\n",
    "\n",
    "def eval_regularizer(logit_p):\n",
    "    dropout_p = tf.sigmoid(logit_p)\n",
    "    loss = 1. - dropout_p\n",
    "    return loss\n",
    "\n",
    "def annealing(epoch, epoches):\n",
    "    rw_max = epoches / 2\n",
    "    if epoch > rw_max:\n",
    "        return 1.\n",
    "    return epoch * 1.0 / rw_max\n",
    "\n",
    "#\n",
    "# construct graph\n",
    "#\n",
    "x               = tf.placeholder(tf.float32, shape=[None, 5650])\n",
    "t               = tf.placeholder(tf.float32, shape=[None, 2])\n",
    "is_training     = tf.placeholder(tf.bool)\n",
    "is_pretrain     = tf.placeholder(tf.bool)\n",
    "annealed_lambda = tf.placeholder(tf.float32)\n",
    "\n",
    "logit_p            = tf.Variable(tf.zeros((5650,)))\n",
    "expanded_logit_p   = logit_p[tf.newaxis, :]\n",
    "expanded_dropout_p = tf.sigmoid(expanded_logit_p)\n",
    "bernoulli_approx   = concrete_dropout_neuron(expanded_dropout_p, tf.shape(x))\n",
    "noised_x           = x * bernoulli_approx\n",
    "\n",
    "h = tf.cond(is_pretrain, lambda:x, lambda:noised_x)\n",
    "h = tf.layers.dense              (h, 170, tf.nn.relu)\n",
    "h = tf.layers.batch_normalization(h, training=is_training)\n",
    "h = tf.layers.dropout            (h, 0.5, training=is_training)\n",
    "h = tf.layers.dense              (h, 170, tf.nn.relu)\n",
    "h = tf.layers.batch_normalization(h, training=is_training)\n",
    "h = tf.layers.dropout            (h, 0.5, training=is_training)\n",
    "y = tf.layers.dense              (h, 2, tf.nn.softmax)\n",
    "\n",
    "correct_prediction = tf.equal(tf.argmax(y, 1), tf.argmax(t, 1))\n",
    "accuracy           = tf.reduce_mean(tf.cast(correct_prediction, tf.float32))\n",
    "importance_vector  = tf.sigmoid(-logit_p)\n",
    "\n",
    "regularizer_coef   = 0.1\n",
    "regularizer_loss   = regularizer_coef * tf.reduce_sum(eval_regularizer(logit_p))\n",
    "crossentropy_loss  = tf.reduce_mean(-tf.reduce_sum(t * tf.log(y + eps), axis=1))\n",
    "loss               = tf.cond(is_pretrain, \n",
    "                             lambda: crossentropy_loss, \n",
    "                             lambda: crossentropy_loss + annealed_lambda * regularizer_loss)\n",
    "train_step         = tf.train.AdamOptimizer().minimize(loss)\n",
    "\n",
    "batch_size = 200\n",
    "n_batches  = len(X_train) // batch_size\n",
    "with tf.Session() as sess:\n",
    "    sess.run(tf.global_variables_initializer())\n",
    "\n",
    "    #\n",
    "    # phase: pretraining\n",
    "    #\n",
    "    epoches = 200\n",
    "    for epoch in tqdm(range(epoches)):\n",
    "        X_, Y_ = utils.shuffle(X_train, Y_train)\n",
    "\n",
    "        for i in range(n_batches):\n",
    "            start = i * batch_size\n",
    "            end   = start + batch_size\n",
    "\n",
    "            sess.run(train_step, feed_dict={\n",
    "                x: X_[start:end],\n",
    "                t: Y_[start:end],\n",
    "                is_training: True,\n",
    "                is_pretrain: True,\n",
    "                annealed_lambda: annealing(epoch, epoches),\n",
    "                })\n",
    "\n",
    "        print(epoch, sess.run([loss, accuracy], feed_dict={\n",
    "            x: X_test,\n",
    "            t: Y_test,\n",
    "            is_training: False,\n",
    "            is_pretrain: True,\n",
    "            annealed_lambda: annealing(epoch, epoches),\n",
    "            }))\n",
    "\n",
    "    #\n",
    "    # phase: learning prob\n",
    "    #\n",
    "    epoches = 500\n",
    "    for epoch in tqdm(range(epoches)):\n",
    "        X_, Y_ = utils.shuffle(X_train, Y_train)\n",
    "\n",
    "        for i in range(n_batches):\n",
    "            start = i * batch_size\n",
    "            end   = start + batch_size\n",
    "\n",
    "            sess.run(train_step, feed_dict={\n",
    "                x: X_[start:end],\n",
    "                t: Y_[start:end],\n",
    "                is_training: True,\n",
    "                is_pretrain: False,\n",
    "                annealed_lambda: annealing(epoch, epoches),\n",
    "                })\n",
    "\n",
    "        # print(epoch, sess.run([loss, accuracy], feed_dict={\n",
    "        #     x: X_test,\n",
    "        #     t: Y_test,\n",
    "        #     is_training: False,\n",
    "        #     is_pretrain: False,\n",
    "        #     annealed_lambda: annealing(epoch, epoches),\n",
    "        #     }))\n",
    "\n",
    "    nn_importance_vector = sess.run(importance_vector, feed_dict={\n",
    "            x: X_test,\n",
    "            t: Y_test,\n",
    "            is_training: False,\n",
    "            is_pretrain: False,\n",
    "            annealed_lambda: 1.0,\n",
    "            })"
   ]
  },
  {
   "cell_type": "code",
   "execution_count": 18,
   "metadata": {
    "ExecuteTime": {
     "end_time": "2019-02-22T07:02:15.918615Z",
     "start_time": "2019-02-22T07:02:14.915868Z"
    }
   },
   "outputs": [
    {
     "data": {
      "text/plain": [
       "delta_lm_AUC          0.001090\n",
       "lm_AUC                0.000776\n",
       "RCNH                  0.000745\n",
       "delta_RCNH            0.000501\n",
       "delta_lg_AUC          0.000429\n",
       "lm_AUC_再測定            0.000419\n",
       "RULE                  0.000332\n",
       "lg_AUC_再測定            0.000312\n",
       "lg_AUC                0.000308\n",
       "DiagRuleCode          0.000293\n",
       "民間療法_健康器具_金額          0.000259\n",
       "ルミノール_PH              0.000243\n",
       "ルミノール再測定_PH           0.000241\n",
       "delta_DiagRuleCode    0.000224\n",
       "ルミノール_PH_1            0.000195\n",
       "ルミノール_PH_3            0.000187\n",
       "delta_ルミノール_PH        0.000167\n",
       "NextAimWalk           0.000162\n",
       "OZ_HE_CFI             0.000158\n",
       "白血球数                  0.000147\n",
       "dtype: float32"
      ]
     },
     "execution_count": 18,
     "metadata": {},
     "output_type": "execute_result"
    },
    {
     "data": {
      "image/png": "[encoded data removed]",
      "text/plain": [
       "<Figure size 864x576 with 2 Axes>"
      ]
     },
     "metadata": {
      "needs_background": "light"
     },
     "output_type": "display_data"
    }
   ],
   "source": [
    "################################################################################\n",
    "# feature importance by VariationalDropoutNN\n",
    "################################################################################\n",
    "plt.figure(figsize=(12, 8))\n",
    "sns.heatmap(np.reshape(nn_importance_vector, (113, -1)))\n",
    "\n",
    "imp = pd.Series(nn_importance_vector)\n",
    "imp.index = pd.Series(df[df.columns ^ mask].columns)\n",
    "imp.sort_values(ascending=False)[:20]"
   ]
  },
  {
   "cell_type": "code",
   "execution_count": 11,
   "metadata": {
    "ExecuteTime": {
     "end_time": "2019-02-21T13:17:49.534746Z",
     "start_time": "2019-02-21T13:17:45.604431Z"
    }
   },
   "outputs": [
    {
     "name": "stderr",
     "output_type": "stream",
     "text": [
      "/home/hiroyam/.local/share/virtualenvs/data-u-kyoto-feature-_MSQN99e/lib/python3.6/site-packages/sklearn/ensemble/forest.py:246: FutureWarning: The default value of n_estimators will change from 10 in version 0.20 to 100 in 0.22.\n",
      "  \"10 in version 0.20 to 100 in 0.22.\", FutureWarning)\n"
     ]
    },
    {
     "name": "stdout",
     "output_type": "stream",
     "text": [
      "四肢血圧_LbaPWV         0.005939\n",
      "内脂肪レベル              0.004988\n",
      "健康状況_医師_脂質異常症_なし    0.003971\n",
      "左半身-X_250kHz        0.003890\n",
      "左足-筋肉量              0.003876\n",
      "健康状況_服薬_高血圧治療薬      0.003858\n",
      "体重                  0.003643\n",
      "健康状況_医師_高血圧_治療中     0.003612\n",
      "プロリン                0.003527\n",
      "血清鉄                 0.003339\n",
      "両足-X_250kHz         0.003313\n",
      "左足-R_50kHz          0.003311\n",
      "左腕-R_50kHz          0.003274\n",
      "両足-R_50kHz          0.003176\n",
      "クレアチニン              0.003176\n",
      "収縮期血圧               0.003079\n",
      "四肢血圧_RABI           0.002903\n",
      "2014PG1             0.002838\n",
      "高血圧治療薬              0.002789\n",
      "総コレステロール            0.002785\n",
      "dtype: float64\n"
     ]
    },
    {
     "data": {
      "image/png": "[encoded data removed]",
      "text/plain": [
       "<Figure size 864x576 with 2 Axes>"
      ]
     },
     "metadata": {
      "needs_background": "light"
     },
     "output_type": "display_data"
    }
   ],
   "source": [
    "################################################################################\n",
    "# feature importance by RandomForest\n",
    "################################################################################\n",
    "clf = ensemble.RandomForestClassifier()\n",
    "clf.fit(X_train, Y_train)\n",
    "plt.figure(figsize=(12, 8))\n",
    "sns.heatmap(np.reshape(clf.feature_importances_, (113, -1)))\n",
    "    \n",
    "imp = pd.Series(clf.feature_importances_)\n",
    "imp.index = pd.Series(df[df.columns ^ mask].columns)\n",
    "print(imp.sort_values(ascending=False)[:20])"
   ]
  },
  {
   "cell_type": "code",
   "execution_count": null,
   "metadata": {},
   "outputs": [],
   "source": []
  },
  {
   "cell_type": "code",
   "execution_count": null,
   "metadata": {},
   "outputs": [],
   "source": []
  },
  {
   "cell_type": "code",
   "execution_count": null,
   "metadata": {},
   "outputs": [],
   "source": []
  },
  {
   "cell_type": "code",
   "execution_count": null,
   "metadata": {},
   "outputs": [],
   "source": []
  },
  {
   "cell_type": "code",
   "execution_count": null,
   "metadata": {},
   "outputs": [],
   "source": []
  },
  {
   "cell_type": "code",
   "execution_count": null,
   "metadata": {},
   "outputs": [],
   "source": []
  },
  {
   "cell_type": "code",
   "execution_count": null,
   "metadata": {},
   "outputs": [],
   "source": []
  },
  {
   "cell_type": "code",
   "execution_count": null,
   "metadata": {},
   "outputs": [],
   "source": []
  },
  {
   "cell_type": "code",
   "execution_count": null,
   "metadata": {},
   "outputs": [],
   "source": []
  },
  {
   "cell_type": "code",
   "execution_count": null,
   "metadata": {},
   "outputs": [],
   "source": []
  },
  {
   "cell_type": "code",
   "execution_count": null,
   "metadata": {},
   "outputs": [],
   "source": []
  },
  {
   "cell_type": "code",
   "execution_count": null,
   "metadata": {},
   "outputs": [],
   "source": []
  },
  {
   "cell_type": "code",
   "execution_count": null,
   "metadata": {},
   "outputs": [],
   "source": []
  },
  {
   "cell_type": "code",
   "execution_count": null,
   "metadata": {},
   "outputs": [],
   "source": []
  },
  {
   "cell_type": "code",
   "execution_count": null,
   "metadata": {},
   "outputs": [],
   "source": []
  },
  {
   "cell_type": "code",
   "execution_count": null,
   "metadata": {},
   "outputs": [],
   "source": []
  },
  {
   "cell_type": "code",
   "execution_count": null,
   "metadata": {},
   "outputs": [],
   "source": []
  },
  {
   "cell_type": "code",
   "execution_count": null,
   "metadata": {},
   "outputs": [],
   "source": []
  },
  {
   "cell_type": "code",
   "execution_count": null,
   "metadata": {},
   "outputs": [],
   "source": []
  },
  {
   "cell_type": "code",
   "execution_count": null,
   "metadata": {},
   "outputs": [],
   "source": []
  },
  {
   "cell_type": "code",
   "execution_count": null,
   "metadata": {},
   "outputs": [],
   "source": []
  },
  {
   "cell_type": "code",
   "execution_count": null,
   "metadata": {},
   "outputs": [],
   "source": []
  },
  {
   "cell_type": "code",
   "execution_count": null,
   "metadata": {},
   "outputs": [],
   "source": []
  },
  {
   "cell_type": "code",
   "execution_count": null,
   "metadata": {},
   "outputs": [],
   "source": []
  },
  {
   "cell_type": "code",
   "execution_count": null,
   "metadata": {},
   "outputs": [],
   "source": []
  },
  {
   "cell_type": "code",
   "execution_count": null,
   "metadata": {},
   "outputs": [],
   "source": []
  },
  {
   "cell_type": "code",
   "execution_count": null,
   "metadata": {},
   "outputs": [],
   "source": []
  },
  {
   "cell_type": "code",
   "execution_count": null,
   "metadata": {},
   "outputs": [],
   "source": []
  },
  {
   "cell_type": "code",
   "execution_count": null,
   "metadata": {},
   "outputs": [],
   "source": []
  },
  {
   "cell_type": "code",
   "execution_count": null,
   "metadata": {},
   "outputs": [],
   "source": []
  },
  {
   "cell_type": "code",
   "execution_count": null,
   "metadata": {},
   "outputs": [],
   "source": []
  },
  {
   "cell_type": "code",
   "execution_count": null,
   "metadata": {},
   "outputs": [],
   "source": []
  },
  {
   "cell_type": "code",
   "execution_count": null,
   "metadata": {},
   "outputs": [],
   "source": []
  },
  {
   "cell_type": "code",
   "execution_count": null,
   "metadata": {},
   "outputs": [],
   "source": []
  },
  {
   "cell_type": "code",
   "execution_count": null,
   "metadata": {},
   "outputs": [],
   "source": []
  },
  {
   "cell_type": "code",
   "execution_count": null,
   "metadata": {},
   "outputs": [],
   "source": []
  },
  {
   "cell_type": "code",
   "execution_count": null,
   "metadata": {},
   "outputs": [],
   "source": []
  },
  {
   "cell_type": "code",
   "execution_count": null,
   "metadata": {},
   "outputs": [],
   "source": []
  },
  {
   "cell_type": "code",
   "execution_count": null,
   "metadata": {},
   "outputs": [],
   "source": []
  },
  {
   "cell_type": "code",
   "execution_count": null,
   "metadata": {},
   "outputs": [],
   "source": []
  },
  {
   "cell_type": "code",
   "execution_count": null,
   "metadata": {},
   "outputs": [],
   "source": []
  },
  {
   "cell_type": "code",
   "execution_count": null,
   "metadata": {},
   "outputs": [],
   "source": []
  },
  {
   "cell_type": "code",
   "execution_count": null,
   "metadata": {},
   "outputs": [],
   "source": [
    "\n",
    "\n",
    "\n",
    "\n",
    "\n",
    "\n",
    "\n",
    "\n",
    "\n",
    "\n",
    "\n",
    "\n"
   ]
  }
 ],
 "metadata": {
  "_draft": {
   "nbviewer_url": "https://gist.github.com/f68b5a077d0b699fe92ccb28a8bfee94"
  },
  "gist": {
   "data": {
    "description": "",
    "public": false
   },
   "id": "f68b5a077d0b699fe92ccb28a8bfee94"
  },
  "kernelspec": {
   "display_name": "Python 3",
   "language": "python",
   "name": "python3"
  },
  "language_info": {
   "codemirror_mode": {
    "name": "ipython",
    "version": 3
   },
   "file_extension": ".py",
   "mimetype": "text/x-python",
   "name": "python",
   "nbconvert_exporter": "python",
   "pygments_lexer": "ipython3",
   "version": "3.6.3"
  },
  "notify_time": "30",
  "varInspector": {
   "cols": {
    "lenName": 16,
    "lenType": 16,
    "lenVar": 40
   },
   "kernels_config": {
    "python": {
     "delete_cmd_postfix": "",
     "delete_cmd_prefix": "del ",
     "library": "var_list.py",
     "varRefreshCmd": "print(var_dic_list())"
    },
    "r": {
     "delete_cmd_postfix": ") ",
     "delete_cmd_prefix": "rm(",
     "library": "var_list.r",
     "varRefreshCmd": "cat(var_dic_list()) "
    }
   },
   "position": {
    "height": "430px",
    "left": "833px",
    "right": "18px",
    "top": "36px",
    "width": "564px"
   },
   "types_to_exclude": [
    "module",
    "function",
    "builtin_function_or_method",
    "instance",
    "_Feature"
   ],
   "window_display": false
  }
 },
 "nbformat": 4,
 "nbformat_minor": 2
}
